{
 "cells": [
  {
   "cell_type": "markdown",
   "id": "e6b91e8a-65ae-4b50-bae1-27ce1247954c",
   "metadata": {},
   "source": [
    "<div style=\"text-align:center\"><h2>Vacunas contra el COVID-19 aplicadas en Argentina</h2></div>\n",
    "<img src=\"Portada.png\" alt=\"Vacunas Arg\" title=\"Vaccine\" width=\"300\" style=\"display:block; margin:auto;\" />\n",
    "<div style=\"text-align:center\">Practicando calculos con un dataset extraido del Ministerio de Salud de la Republica Argentina</div>"
   ]
  },
  {
   "cell_type": "code",
   "execution_count": 3,
   "id": "0462ba31-57a6-4a4b-b427-4333c24fdf39",
   "metadata": {},
   "outputs": [],
   "source": [
    "import pandas as info"
   ]
  },
  {
   "cell_type": "code",
   "execution_count": 4,
   "id": "ccfe658b-bbbd-45cc-9f95-2e5106c50aee",
   "metadata": {},
   "outputs": [],
   "source": [
    "import matplotlib.pyplot as grafics"
   ]
  },
  {
   "cell_type": "code",
   "execution_count": 5,
   "id": "bb2dd8fa-4204-4d31-b9ee-dd813b46a3b4",
   "metadata": {},
   "outputs": [],
   "source": [
    "datos= info.read_csv('Covid19VacunasAgrupadas.csv.zip') "
   ]
  },
  {
   "cell_type": "code",
   "execution_count": 6,
   "id": "3e711a60-6a28-45f3-9ad4-490c5c2f4fd5",
   "metadata": {},
   "outputs": [
    {
     "name": "stdout",
     "output_type": "stream",
     "text": [
      "['jurisdiccion_codigo_indec', 'jurisdiccion_nombre', 'vacuna_nombre', 'dosis_unica_cantidad', 'primera_dosis_cantidad', 'segunda_dosis_cantidad', 'dosis_adicional_cantidad', 'dosis_refuerzo_cantidad']\n"
     ]
    }
   ],
   "source": [
    "print(list(datos.columns.values))"
   ]
  },
  {
   "cell_type": "code",
   "execution_count": 7,
   "id": "f16fa7ca-a76a-4805-8b6f-d53e3ac393b2",
   "metadata": {},
   "outputs": [
    {
     "data": {
      "text/html": [
       "<div>\n",
       "<style scoped>\n",
       "    .dataframe tbody tr th:only-of-type {\n",
       "        vertical-align: middle;\n",
       "    }\n",
       "\n",
       "    .dataframe tbody tr th {\n",
       "        vertical-align: top;\n",
       "    }\n",
       "\n",
       "    .dataframe thead th {\n",
       "        text-align: right;\n",
       "    }\n",
       "</style>\n",
       "<table border=\"1\" class=\"dataframe\">\n",
       "  <thead>\n",
       "    <tr style=\"text-align: right;\">\n",
       "      <th></th>\n",
       "      <th>jurisdiccion_codigo_indec</th>\n",
       "      <th>jurisdiccion_nombre</th>\n",
       "      <th>vacuna_nombre</th>\n",
       "      <th>dosis_unica_cantidad</th>\n",
       "      <th>primera_dosis_cantidad</th>\n",
       "      <th>segunda_dosis_cantidad</th>\n",
       "      <th>dosis_adicional_cantidad</th>\n",
       "      <th>dosis_refuerzo_cantidad</th>\n",
       "    </tr>\n",
       "  </thead>\n",
       "  <tbody>\n",
       "    <tr>\n",
       "      <th>0</th>\n",
       "      <td>6</td>\n",
       "      <td>Buenos Aires</td>\n",
       "      <td>ARVAC proteina RBD gamma omicron BA 4 5</td>\n",
       "      <td>0</td>\n",
       "      <td>0</td>\n",
       "      <td>0</td>\n",
       "      <td>0</td>\n",
       "      <td>1</td>\n",
       "    </tr>\n",
       "    <tr>\n",
       "      <th>1</th>\n",
       "      <td>6</td>\n",
       "      <td>Buenos Aires</td>\n",
       "      <td>AstraZeneca ChAdOx1 S recombinante</td>\n",
       "      <td>0</td>\n",
       "      <td>3648673</td>\n",
       "      <td>4022695</td>\n",
       "      <td>832866</td>\n",
       "      <td>1121875</td>\n",
       "    </tr>\n",
       "    <tr>\n",
       "      <th>2</th>\n",
       "      <td>6</td>\n",
       "      <td>Buenos Aires</td>\n",
       "      <td>COVISHIELD ChAdOx1nCoV COVID 19</td>\n",
       "      <td>0</td>\n",
       "      <td>251416</td>\n",
       "      <td>383</td>\n",
       "      <td>0</td>\n",
       "      <td>0</td>\n",
       "    </tr>\n",
       "    <tr>\n",
       "      <th>3</th>\n",
       "      <td>6</td>\n",
       "      <td>Buenos Aires</td>\n",
       "      <td>Cansino Ad5 nCoV</td>\n",
       "      <td>90334</td>\n",
       "      <td>0</td>\n",
       "      <td>7732</td>\n",
       "      <td>1632</td>\n",
       "      <td>110495</td>\n",
       "    </tr>\n",
       "    <tr>\n",
       "      <th>4</th>\n",
       "      <td>6</td>\n",
       "      <td>Buenos Aires</td>\n",
       "      <td>Moderna 010 mg mL</td>\n",
       "      <td>0</td>\n",
       "      <td>52542</td>\n",
       "      <td>31877</td>\n",
       "      <td>0</td>\n",
       "      <td>183280</td>\n",
       "    </tr>\n",
       "    <tr>\n",
       "      <th>...</th>\n",
       "      <td>...</td>\n",
       "      <td>...</td>\n",
       "      <td>...</td>\n",
       "      <td>...</td>\n",
       "      <td>...</td>\n",
       "      <td>...</td>\n",
       "      <td>...</td>\n",
       "      <td>...</td>\n",
       "    </tr>\n",
       "    <tr>\n",
       "      <th>346</th>\n",
       "      <td>90</td>\n",
       "      <td>Tucumán</td>\n",
       "      <td>Pfizer Monovalente XBB 1 5</td>\n",
       "      <td>37</td>\n",
       "      <td>30</td>\n",
       "      <td>73</td>\n",
       "      <td>0</td>\n",
       "      <td>6458</td>\n",
       "    </tr>\n",
       "    <tr>\n",
       "      <th>347</th>\n",
       "      <td>90</td>\n",
       "      <td>Tucumán</td>\n",
       "      <td>Pfizer Pediátrica</td>\n",
       "      <td>0</td>\n",
       "      <td>2222</td>\n",
       "      <td>561</td>\n",
       "      <td>2694</td>\n",
       "      <td>37034</td>\n",
       "    </tr>\n",
       "    <tr>\n",
       "      <th>348</th>\n",
       "      <td>90</td>\n",
       "      <td>Tucumán</td>\n",
       "      <td>Sinopharm Vacuna SARSCOV 2 inactivada</td>\n",
       "      <td>0</td>\n",
       "      <td>545162</td>\n",
       "      <td>486732</td>\n",
       "      <td>3</td>\n",
       "      <td>960</td>\n",
       "    </tr>\n",
       "    <tr>\n",
       "      <th>349</th>\n",
       "      <td>90</td>\n",
       "      <td>Tucumán</td>\n",
       "      <td>Sputnik Light</td>\n",
       "      <td>87</td>\n",
       "      <td>0</td>\n",
       "      <td>135</td>\n",
       "      <td>0</td>\n",
       "      <td>5717</td>\n",
       "    </tr>\n",
       "    <tr>\n",
       "      <th>350</th>\n",
       "      <td>90</td>\n",
       "      <td>Tucumán</td>\n",
       "      <td>Sputnik V COVID19 Instituto Gamaleya</td>\n",
       "      <td>0</td>\n",
       "      <td>435059</td>\n",
       "      <td>326345</td>\n",
       "      <td>4078</td>\n",
       "      <td>79307</td>\n",
       "    </tr>\n",
       "  </tbody>\n",
       "</table>\n",
       "<p>351 rows × 8 columns</p>\n",
       "</div>"
      ],
      "text/plain": [
       "     jurisdiccion_codigo_indec jurisdiccion_nombre  \\\n",
       "0                            6        Buenos Aires   \n",
       "1                            6        Buenos Aires   \n",
       "2                            6        Buenos Aires   \n",
       "3                            6        Buenos Aires   \n",
       "4                            6        Buenos Aires   \n",
       "..                         ...                 ...   \n",
       "346                         90             Tucumán   \n",
       "347                         90             Tucumán   \n",
       "348                         90             Tucumán   \n",
       "349                         90             Tucumán   \n",
       "350                         90             Tucumán   \n",
       "\n",
       "                               vacuna_nombre  dosis_unica_cantidad  \\\n",
       "0    ARVAC proteina RBD gamma omicron BA 4 5                     0   \n",
       "1         AstraZeneca ChAdOx1 S recombinante                     0   \n",
       "2            COVISHIELD ChAdOx1nCoV COVID 19                     0   \n",
       "3                           Cansino Ad5 nCoV                 90334   \n",
       "4                          Moderna 010 mg mL                     0   \n",
       "..                                       ...                   ...   \n",
       "346               Pfizer Monovalente XBB 1 5                    37   \n",
       "347                        Pfizer Pediátrica                     0   \n",
       "348    Sinopharm Vacuna SARSCOV 2 inactivada                     0   \n",
       "349                            Sputnik Light                    87   \n",
       "350     Sputnik V COVID19 Instituto Gamaleya                     0   \n",
       "\n",
       "     primera_dosis_cantidad  segunda_dosis_cantidad  dosis_adicional_cantidad  \\\n",
       "0                         0                       0                         0   \n",
       "1                   3648673                 4022695                    832866   \n",
       "2                    251416                     383                         0   \n",
       "3                         0                    7732                      1632   \n",
       "4                     52542                   31877                         0   \n",
       "..                      ...                     ...                       ...   \n",
       "346                      30                      73                         0   \n",
       "347                    2222                     561                      2694   \n",
       "348                  545162                  486732                         3   \n",
       "349                       0                     135                         0   \n",
       "350                  435059                  326345                      4078   \n",
       "\n",
       "     dosis_refuerzo_cantidad  \n",
       "0                          1  \n",
       "1                    1121875  \n",
       "2                          0  \n",
       "3                     110495  \n",
       "4                     183280  \n",
       "..                       ...  \n",
       "346                     6458  \n",
       "347                    37034  \n",
       "348                      960  \n",
       "349                     5717  \n",
       "350                    79307  \n",
       "\n",
       "[351 rows x 8 columns]"
      ]
     },
     "execution_count": 7,
     "metadata": {},
     "output_type": "execute_result"
    }
   ],
   "source": [
    "datos"
   ]
  },
  {
   "cell_type": "markdown",
   "id": "edcb0e9a-59df-4c83-ae17-f108b9f0b286",
   "metadata": {},
   "source": [
    "> **En este punto queria conocer cuales eran las vacunas que se aplicaron desde el inicio de la campaña de vacunacion contra el covid-19 hasta la actualidad**. Del dataframe al cual le habia asingado el nombre \"datos\" anteriormente seleccione la columna \"vacunas_nombre\" y con el metodo .value_counts conte la frecuencia en la que se repiten las vacunas."
   ]
  },
  {
   "cell_type": "code",
   "execution_count": 8,
   "id": "8c732d6d-25d0-42d8-b75b-a0ff56ea8f7c",
   "metadata": {},
   "outputs": [],
   "source": [
    "vacunas = datos['vacuna_nombre'].value_counts()"
   ]
  },
  {
   "cell_type": "code",
   "execution_count": 9,
   "id": "51395130-d360-42f9-b3ec-edb0d8d2df1d",
   "metadata": {},
   "outputs": [
    {
     "data": {
      "text/plain": [
       "vacuna_nombre\n",
       "AstraZeneca ChAdOx1 S recombinante         24\n",
       "COVISHIELD ChAdOx1nCoV COVID 19            24\n",
       "Cansino Ad5 nCoV                           24\n",
       "Moderna 010 mg mL                          24\n",
       "Moderna ARNm 020 mg mL                     24\n",
       "Moderna Bivariante BA 4 5                  24\n",
       "Moderna Monovalente XBB 1 5                24\n",
       "Pfizer BioNTech Comirnaty                  24\n",
       "Pfizer Bivariante BA 4 5                   24\n",
       "Pfizer Monovalente XBB 1 5                 24\n",
       "Pfizer Pediátrica                          24\n",
       "Sinopharm Vacuna SARSCOV 2 inactivada      24\n",
       "Sputnik V COVID19 Instituto Gamaleya       24\n",
       "Sputnik Light                              22\n",
       "ARVAC proteina RBD gamma omicron BA 4 5    17\n",
       "Name: count, dtype: int64"
      ]
     },
     "execution_count": 9,
     "metadata": {},
     "output_type": "execute_result"
    }
   ],
   "source": [
    "vacunas"
   ]
  },
  {
   "cell_type": "markdown",
   "id": "5ad451a3-0e23-41a2-afb7-f2ed1a41da78",
   "metadata": {},
   "source": [
    "> Con el metodo de **suma** pude calcular la **cantidad de vacunas covid-19 aplicadas** hasta la fecha por lo que use el metodo .sum() con cada una de las columnas a las cuales le fui asignando un nombre "
   ]
  },
  {
   "cell_type": "code",
   "execution_count": 13,
   "id": "6a1ea093-d445-45b9-b914-c5762ae2dd8c",
   "metadata": {},
   "outputs": [
    {
     "data": {
      "text/plain": [
       "374297"
      ]
     },
     "execution_count": 13,
     "metadata": {},
     "output_type": "execute_result"
    }
   ],
   "source": [
    "datos['dosis_unica_cantidad'].sum()"
   ]
  },
  {
   "cell_type": "code",
   "execution_count": 14,
   "id": "d43c43dc-d20d-48a4-b4ae-63e7d587c561",
   "metadata": {},
   "outputs": [
    {
     "data": {
      "text/plain": [
       "0           0\n",
       "1      832866\n",
       "2           0\n",
       "3        1632\n",
       "4           0\n",
       "        ...  \n",
       "346         0\n",
       "347      2694\n",
       "348         3\n",
       "349         0\n",
       "350      4078\n",
       "Name: dosis_adicional_cantidad, Length: 351, dtype: int64"
      ]
     },
     "execution_count": 14,
     "metadata": {},
     "output_type": "execute_result"
    }
   ],
   "source": [
    "datos['dosis_adicional_cantidad']"
   ]
  },
  {
   "cell_type": "code",
   "execution_count": 15,
   "id": "84c22915-9965-4a66-bb26-742e4e926bd3",
   "metadata": {},
   "outputs": [
    {
     "data": {
      "text/plain": [
       "3172957"
      ]
     },
     "execution_count": 15,
     "metadata": {},
     "output_type": "execute_result"
    }
   ],
   "source": [
    "datos['dosis_adicional_cantidad'].sum()"
   ]
  },
  {
   "cell_type": "code",
   "execution_count": 18,
   "id": "6f051715-80b2-494d-8d23-07b412898414",
   "metadata": {},
   "outputs": [],
   "source": [
    "adiccional = datos['dosis_adicional_cantidad'].sum()"
   ]
  },
  {
   "cell_type": "code",
   "execution_count": 19,
   "id": "b40c0bb4-95c8-4d39-acd4-831cd0af4dca",
   "metadata": {},
   "outputs": [
    {
     "data": {
      "text/plain": [
       "35972903"
      ]
     },
     "execution_count": 19,
     "metadata": {},
     "output_type": "execute_result"
    }
   ],
   "source": [
    "datos['dosis_refuerzo_cantidad'].sum()"
   ]
  },
  {
   "cell_type": "code",
   "execution_count": 20,
   "id": "d79104f9-43c3-490f-82c3-242ccfee5875",
   "metadata": {},
   "outputs": [],
   "source": [
    "refuerzo = datos['dosis_refuerzo_cantidad'].sum()"
   ]
  },
  {
   "cell_type": "code",
   "execution_count": 21,
   "id": "3a3a489f-a292-41ce-8ea9-acb52a4ec29a",
   "metadata": {},
   "outputs": [
    {
     "data": {
      "text/plain": [
       "39145860"
      ]
     },
     "execution_count": 21,
     "metadata": {},
     "output_type": "execute_result"
    }
   ],
   "source": [
    "refuerzo + adiccional"
   ]
  },
  {
   "cell_type": "code",
   "execution_count": 22,
   "id": "8a2ce826-6870-44ac-b84e-f786d0db4efe",
   "metadata": {},
   "outputs": [
    {
     "data": {
      "text/plain": [
       "37795274"
      ]
     },
     "execution_count": 22,
     "metadata": {},
     "output_type": "execute_result"
    }
   ],
   "source": [
    "datos['segunda_dosis_cantidad'].sum()"
   ]
  },
  {
   "cell_type": "code",
   "execution_count": 23,
   "id": "3d037e36-114a-4a61-ba9d-e8a53b366e8a",
   "metadata": {},
   "outputs": [],
   "source": [
    "segunda = datos['segunda_dosis_cantidad'].sum()"
   ]
  },
  {
   "cell_type": "code",
   "execution_count": 24,
   "id": "6696950c-f70a-456f-bb54-76e1953dc9b8",
   "metadata": {},
   "outputs": [],
   "source": [
    "primera = datos['primera_dosis_cantidad'].sum()"
   ]
  },
  {
   "cell_type": "code",
   "execution_count": 25,
   "id": "4a40801c-d5c7-4f05-b6fe-98bafe1133a9",
   "metadata": {},
   "outputs": [],
   "source": [
    "unica = datos['dosis_unica_cantidad'].sum()"
   ]
  },
  {
   "cell_type": "markdown",
   "id": "1d3ba3b5-8162-4183-9695-66e4324b5b12",
   "metadata": {},
   "source": [
    "> Asignados los nombres solo quedaba sumarlos para concer el **total**"
   ]
  },
  {
   "cell_type": "code",
   "execution_count": 27,
   "id": "26793239-658d-4a33-b715-f225c2988aa5",
   "metadata": {},
   "outputs": [
    {
     "data": {
      "text/plain": [
       "118535181"
      ]
     },
     "execution_count": 27,
     "metadata": {},
     "output_type": "execute_result"
    }
   ],
   "source": [
    "unica + primera + segunda + refuerzo + adiccional"
   ]
  },
  {
   "cell_type": "code",
   "execution_count": 28,
   "id": "f1210fe8-2b68-48df-a9b3-5b2a4dd764d2",
   "metadata": {},
   "outputs": [],
   "source": [
    "total = unica + primera + segunda + refuerzo + adiccional"
   ]
  },
  {
   "cell_type": "markdown",
   "id": "3eae5368-7a21-493f-ab5c-dd8d7a1df696",
   "metadata": {},
   "source": [
    "> Aca busque otro dataset del mismo lugar, lo carge como datos2 y solo me interesaba la columna de \"dosis_recibidas\" para realizar una resta final de las **dosis que declaro el pais como recibidas y las dosis aplicadas** "
   ]
  },
  {
   "cell_type": "code",
   "execution_count": 34,
   "id": "592fd037-b8a5-4cd3-9e81-169ea91f3c61",
   "metadata": {},
   "outputs": [],
   "source": [
    "datos2 = info.read_excel('recepcion_de_vacunas.xlsx')"
   ]
  },
  {
   "cell_type": "code",
   "execution_count": 35,
   "id": "ef55dda9-fb98-4e18-996f-1a8a51edbff6",
   "metadata": {},
   "outputs": [
    {
     "name": "stdout",
     "output_type": "stream",
     "text": [
      "['acta_numero', 'fecha_de_creacion', 'numero_de_acta', 'guia_aerea_o_remito', 'dosis_recibidas', 'hipervinculo']\n"
     ]
    }
   ],
   "source": [
    "print(list(datos2.columns.values))"
   ]
  },
  {
   "cell_type": "code",
   "execution_count": 38,
   "id": "6fcd390d-c8a9-41f8-b5fa-985f8beacad5",
   "metadata": {},
   "outputs": [
    {
     "data": {
      "text/plain": [
       "141924360"
      ]
     },
     "execution_count": 38,
     "metadata": {},
     "output_type": "execute_result"
    }
   ],
   "source": [
    "datos2['dosis_recibidas'].sum()"
   ]
  },
  {
   "cell_type": "code",
   "execution_count": 39,
   "id": "781202a3-dd6c-4c28-a197-faba01df2115",
   "metadata": {},
   "outputs": [],
   "source": [
    "total2 = datos2['dosis_recibidas'].sum()"
   ]
  },
  {
   "cell_type": "code",
   "execution_count": 40,
   "id": "0d4c025f-e924-47d8-8f79-fbce30008eb9",
   "metadata": {},
   "outputs": [
    {
     "data": {
      "text/plain": [
       "23389179"
      ]
     },
     "execution_count": 40,
     "metadata": {},
     "output_type": "execute_result"
    }
   ],
   "source": [
    "total2 - total"
   ]
  },
  {
   "cell_type": "code",
   "execution_count": null,
   "id": "24a66c5d-5b7a-4582-aa68-d5d825e9842a",
   "metadata": {},
   "outputs": [],
   "source": []
  }
 ],
 "metadata": {
  "kernelspec": {
   "display_name": "Python 3 (ipykernel)",
   "language": "python",
   "name": "python3"
  },
  "language_info": {
   "codemirror_mode": {
    "name": "ipython",
    "version": 3
   },
   "file_extension": ".py",
   "mimetype": "text/x-python",
   "name": "python",
   "nbconvert_exporter": "python",
   "pygments_lexer": "ipython3",
   "version": "3.10.10"
  }
 },
 "nbformat": 4,
 "nbformat_minor": 5
}

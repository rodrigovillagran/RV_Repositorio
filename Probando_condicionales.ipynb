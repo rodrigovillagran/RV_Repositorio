{
 "cells": [
  {
   "cell_type": "markdown",
   "id": "5d2ea42f-190a-44b7-a2b8-da24e0c550c0",
   "metadata": {},
   "source": [
    "## Condicionales - If, Elif "
   ]
  },
  {
   "cell_type": "code",
   "execution_count": 30,
   "id": "cde04f63-fe50-46bb-adec-4f3e4b9d01bd",
   "metadata": {},
   "outputs": [
    {
     "name": "stdin",
     "output_type": "stream",
     "text": [
      "Digite un numero:  4\n"
     ]
    }
   ],
   "source": [
    "numero = int(input(\"Digite un numero: \"))"
   ]
  },
  {
   "cell_type": "code",
   "execution_count": 31,
   "id": "401b6fca-bda4-454e-9306-8c2facf00aac",
   "metadata": {},
   "outputs": [
    {
     "name": "stdout",
     "output_type": "stream",
     "text": [
      "El numero es POSITIVO\n",
      "Fin del programa\n"
     ]
    }
   ],
   "source": [
    "if numero>0:         #si esta condicion se cumple pasara tanto\n",
    "    print(\"El numero es POSITIVO\") #identacion\n",
    "elif numero==0:   #Caso de no cumplirse evalua esta\n",
    "    print(\"El numero es 0\")\n",
    "else:               #Si ninguna condicion se cumple...\n",
    "    print(\"El numero es NEGATIVO\") \n",
    "\n",
    "print(\"Fin del programa\") # Sin identacion (sangria) no pertenece a las condiciones anteriores"
   ]
  },
  {
   "cell_type": "markdown",
   "id": "b80823fd-e65a-4e81-b814-19737be8b0e7",
   "metadata": {},
   "source": [
    "## Condicionales Combinados"
   ]
  },
  {
   "cell_type": "code",
   "execution_count": 52,
   "id": "5d33460d-0275-4ac7-83d7-1a5abc7af49e",
   "metadata": {},
   "outputs": [
    {
     "name": "stdin",
     "output_type": "stream",
     "text": [
      "Digite la nota:  5\n"
     ]
    }
   ],
   "source": [
    "nota = int(input(\"Digite la nota: \"))"
   ]
  },
  {
   "cell_type": "code",
   "execution_count": 53,
   "id": "56a8547f-caee-4d7e-a23f-1e65317b3798",
   "metadata": {},
   "outputs": [
    {
     "name": "stdout",
     "output_type": "stream",
     "text": [
      "Alumno Desaprobado\n"
     ]
    }
   ],
   "source": [
    "if nota>=6:\n",
    "    print(\"Alumno Aprobado\")\n",
    "else:\n",
    "    print(\"Alumno Desaprobado\")"
   ]
  },
  {
   "cell_type": "code",
   "execution_count": 54,
   "id": "2c47e2fb-f40d-4e22-a4aa-9261719c2814",
   "metadata": {},
   "outputs": [
    {
     "name": "stdout",
     "output_type": "stream",
     "text": [
      "Trabajo Presentado\n"
     ]
    }
   ],
   "source": [
    "if nota>1:\n",
    "    print(\"Trabajo Presentado\")\n",
    "    if nota>=6:\n",
    "        print(\"Alumno aprobado\")\n",
    "else:\n",
    "    print(\"Trabajo NO Presentado\")"
   ]
  },
  {
   "cell_type": "code",
   "execution_count": 55,
   "id": "ab3ecfec-ee84-40c9-9383-ac7d8cf66a54",
   "metadata": {},
   "outputs": [
    {
     "name": "stdout",
     "output_type": "stream",
     "text": [
      "Trabajo Presentado\n"
     ]
    }
   ],
   "source": [
    "if nota>1 and nota<=10:\n",
    "    print(\"Trabajo Presentado\")\n",
    "    if nota>=6:\n",
    "        print(\"Alumno aprobado\")\n",
    "else:\n",
    "    print(\"Trabajo NO Presentado\")"
   ]
  },
  {
   "cell_type": "code",
   "execution_count": 56,
   "id": "e232d27f-5d2f-423c-895e-66b8936079c8",
   "metadata": {},
   "outputs": [
    {
     "name": "stdout",
     "output_type": "stream",
     "text": [
      "Trabajo Presentado\n",
      "Alumno desaprobado\n"
     ]
    }
   ],
   "source": [
    "if 0<nota<=10: #Comparaciones menos trabajo\n",
    "    print(\"Trabajo Presentado\")\n",
    "    if nota>=6:\n",
    "        print(\"Alumno aprobado\")\n",
    "    else:\n",
    "        print(\"Alumno desaprobado\")\n",
    "else:\n",
    "    print(\"Trabajo NO Presentado\")"
   ]
  },
  {
   "cell_type": "code",
   "execution_count": null,
   "id": "6cbc37bc-9644-46f2-b910-393e0d986dc1",
   "metadata": {},
   "outputs": [],
   "source": []
  }
 ],
 "metadata": {
  "kernelspec": {
   "display_name": "Python 3 (ipykernel)",
   "language": "python",
   "name": "python3"
  },
  "language_info": {
   "codemirror_mode": {
    "name": "ipython",
    "version": 3
   },
   "file_extension": ".py",
   "mimetype": "text/x-python",
   "name": "python",
   "nbconvert_exporter": "python",
   "pygments_lexer": "ipython3",
   "version": "3.10.6"
  }
 },
 "nbformat": 4,
 "nbformat_minor": 5
}

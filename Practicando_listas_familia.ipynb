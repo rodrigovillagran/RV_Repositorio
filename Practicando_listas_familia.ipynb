{
 "cells": [
  {
   "cell_type": "code",
   "execution_count": 2,
   "id": "66b528d3-9232-4ab3-a91c-9e48da9a13db",
   "metadata": {},
   "outputs": [],
   "source": [
    "familia = []"
   ]
  },
  {
   "cell_type": "code",
   "execution_count": 3,
   "id": "96aeb267-b070-4999-b179-84c63bcd13dc",
   "metadata": {},
   "outputs": [
    {
     "data": {
      "text/plain": [
       "['__add__',\n",
       " '__class__',\n",
       " '__class_getitem__',\n",
       " '__contains__',\n",
       " '__delattr__',\n",
       " '__delitem__',\n",
       " '__dir__',\n",
       " '__doc__',\n",
       " '__eq__',\n",
       " '__format__',\n",
       " '__ge__',\n",
       " '__getattribute__',\n",
       " '__getitem__',\n",
       " '__gt__',\n",
       " '__hash__',\n",
       " '__iadd__',\n",
       " '__imul__',\n",
       " '__init__',\n",
       " '__init_subclass__',\n",
       " '__iter__',\n",
       " '__le__',\n",
       " '__len__',\n",
       " '__lt__',\n",
       " '__mul__',\n",
       " '__ne__',\n",
       " '__new__',\n",
       " '__reduce__',\n",
       " '__reduce_ex__',\n",
       " '__repr__',\n",
       " '__reversed__',\n",
       " '__rmul__',\n",
       " '__setattr__',\n",
       " '__setitem__',\n",
       " '__sizeof__',\n",
       " '__str__',\n",
       " '__subclasshook__',\n",
       " 'append',\n",
       " 'clear',\n",
       " 'copy',\n",
       " 'count',\n",
       " 'extend',\n",
       " 'index',\n",
       " 'insert',\n",
       " 'pop',\n",
       " 'remove',\n",
       " 'reverse',\n",
       " 'sort']"
      ]
     },
     "execution_count": 3,
     "metadata": {},
     "output_type": "execute_result"
    }
   ],
   "source": [
    "dir(familia) #Son metodos que se le puede aplicar la lista familia"
   ]
  },
  {
   "cell_type": "code",
   "execution_count": 4,
   "id": "157962de-1c9a-49e2-82e7-d44d1407db2a",
   "metadata": {},
   "outputs": [],
   "source": [
    "familia.append('Rodrigo') # Append agrega datos a la lista"
   ]
  },
  {
   "cell_type": "code",
   "execution_count": 5,
   "id": "be48c329-d86f-4944-bb38-f4f49dbba561",
   "metadata": {},
   "outputs": [],
   "source": [
    "familia.append('Alvaro')"
   ]
  },
  {
   "cell_type": "code",
   "execution_count": 7,
   "id": "741370f4-a547-4128-a487-423241b867cd",
   "metadata": {},
   "outputs": [],
   "source": [
    "familia.append('Ricardo')"
   ]
  },
  {
   "cell_type": "code",
   "execution_count": 9,
   "id": "1050d45a-6602-4836-88a2-814225dbf538",
   "metadata": {},
   "outputs": [],
   "source": [
    "familia.append('Ivan') #Agrega nombre por nombre a la lista"
   ]
  },
  {
   "cell_type": "code",
   "execution_count": 10,
   "id": "76a5bd9c-2b7b-484c-94af-9fd042e54be8",
   "metadata": {},
   "outputs": [
    {
     "data": {
      "text/plain": [
       "['Rodrigo', 'Alvaro', 'Ricardo', 'Ivan']"
      ]
     },
     "execution_count": 10,
     "metadata": {},
     "output_type": "execute_result"
    }
   ],
   "source": [
    "familia"
   ]
  },
  {
   "cell_type": "code",
   "execution_count": 11,
   "id": "5e8b3a64-6c3f-459d-a0f9-7d8e505c0eab",
   "metadata": {},
   "outputs": [
    {
     "name": "stdin",
     "output_type": "stream",
     "text": [
      "Nombre del integrante:  Ines\n"
     ]
    }
   ],
   "source": [
    "nombre_integrante = input('Nombre del integrante: ') #Hace un input para agregar integrantes de otra manera"
   ]
  },
  {
   "cell_type": "code",
   "execution_count": 12,
   "id": "6192ceca-19da-4537-ac9e-853876a6c7e6",
   "metadata": {},
   "outputs": [
    {
     "data": {
      "text/plain": [
       "'Ines'"
      ]
     },
     "execution_count": 12,
     "metadata": {},
     "output_type": "execute_result"
    }
   ],
   "source": [
    "nombre_integrante"
   ]
  },
  {
   "cell_type": "code",
   "execution_count": 13,
   "id": "0b7dfc52-a050-440c-903c-799568fb87ed",
   "metadata": {},
   "outputs": [],
   "source": [
    "familia.append(nombre_integrante)  #Completa la celda anterior del input"
   ]
  },
  {
   "cell_type": "code",
   "execution_count": 14,
   "id": "753c7948-9dd9-4ae9-a6b0-06cb29e3fdcd",
   "metadata": {},
   "outputs": [
    {
     "data": {
      "text/plain": [
       "['Rodrigo', 'Alvaro', 'Ricardo', 'Ivan', 'Ines']"
      ]
     },
     "execution_count": 14,
     "metadata": {},
     "output_type": "execute_result"
    }
   ],
   "source": [
    "familia"
   ]
  },
  {
   "cell_type": "code",
   "execution_count": 22,
   "id": "4fea905f-8c68-49bb-9e79-c37317ce5c46",
   "metadata": {},
   "outputs": [
    {
     "name": "stdout",
     "output_type": "stream",
     "text": [
      "Hola! Alvaro\n",
      "Hola! Ines\n",
      "Hola! Ivan\n",
      "Hola! Ricardo\n",
      "Hola! Rodrigo\n"
     ]
    }
   ],
   "source": [
    "for name in familia: #para cada integrante de la lista familia \n",
    " print(\"Hola!\", name) #saluda a cada integrante de la lista a traves del bucle creado con for"
   ]
  },
  {
   "cell_type": "code",
   "execution_count": 25,
   "id": "5a603b44-36ab-4f60-9652-f117888caa41",
   "metadata": {},
   "outputs": [],
   "source": [
    "familia.sort() #Ordena alfabeticamente "
   ]
  },
  {
   "cell_type": "code",
   "execution_count": 24,
   "id": "86e48be7-627a-4ceb-8be8-6c9ff78ea0eb",
   "metadata": {},
   "outputs": [
    {
     "data": {
      "text/plain": [
       "['Alvaro', 'Ines', 'Ivan', 'Ricardo', 'Rodrigo']"
      ]
     },
     "execution_count": 24,
     "metadata": {},
     "output_type": "execute_result"
    }
   ],
   "source": [
    "familia"
   ]
  }
 ],
 "metadata": {
  "kernelspec": {
   "display_name": "Python 3 (ipykernel)",
   "language": "python",
   "name": "python3"
  },
  "language_info": {
   "codemirror_mode": {
    "name": "ipython",
    "version": 3
   },
   "file_extension": ".py",
   "mimetype": "text/x-python",
   "name": "python",
   "nbconvert_exporter": "python",
   "pygments_lexer": "ipython3",
   "version": "3.10.6"
  }
 },
 "nbformat": 4,
 "nbformat_minor": 5
}
